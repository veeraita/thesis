{
 "cells": [
  {
   "cell_type": "code",
   "execution_count": 109,
   "metadata": {},
   "outputs": [],
   "source": [
    "import os\n",
    "import time\n",
    "import numpy as np\n",
    "import pandas as pd\n",
    "import seaborn as sns\n",
    "import matplotlib.pyplot as plt\n",
    "%matplotlib inline\n",
    "from glob import glob\n",
    "from tqdm import tqdm\n",
    "\n",
    "import torch\n",
    "import torchvision\n",
    "import torchvision.transforms as transforms\n",
    "import torch.nn as nn\n",
    "import torch.nn.functional as F\n",
    "import torch.optim as optim\n",
    "from torch.utils.data import DataLoader, Dataset, RandomSampler\n",
    "from torch.utils.data.sampler import SubsetRandomSampler\n",
    "from sklearn.preprocessing import StandardScaler\n",
    "\n",
    "import tools"
   ]
  },
  {
   "cell_type": "code",
   "execution_count": 258,
   "metadata": {},
   "outputs": [],
   "source": [
    "DATA_DIR = '/u/13/italinv1/unix/PycharmProjects/veera-thesis/aparc_data/'\n",
    "AGG = 'max'\n",
    "PSD_TYPE = 'relative'\n",
    "BATCH_SIZE = 128\n",
    "TEST_SPLIT = 0.2\n",
    "DECIM_FREQS = 'bands'\n",
    "RANDOM_SEED = 42\n",
    "N_EPOCHS = 8\n",
    "SKIP_TRAINING = False\n",
    "LEARNING_RATE = 0.001\n",
    "WEIGHT_DECAY = 0.001\n",
    "\n",
    "cases = ['%03d' % n for n in range(28)]\n",
    "\n",
    "freq_bands = [\n",
    "    (1, 4),\n",
    "    (4, 8),\n",
    "    (8, 10),\n",
    "    (10, 13),\n",
    "    (13, 30),\n",
    "    (30, 40)\n",
    "]"
   ]
  },
  {
   "cell_type": "code",
   "execution_count": 3,
   "metadata": {},
   "outputs": [],
   "source": [
    "# get the computation device\n",
    "def get_device():\n",
    "    if torch.cuda.is_available():\n",
    "        device = 'cuda:0'\n",
    "    else:\n",
    "        device = 'cpu'\n",
    "    return device\n",
    "device = get_device()"
   ]
  },
  {
   "cell_type": "markdown",
   "metadata": {},
   "source": [
    "## Loading data"
   ]
  },
  {
   "cell_type": "code",
   "execution_count": 183,
   "metadata": {},
   "outputs": [
    {
     "data": {
      "text/plain": [
       "641"
      ]
     },
     "execution_count": 183,
     "metadata": {},
     "output_type": "execute_result"
    }
   ],
   "source": [
    "class CSVDataset(Dataset):\n",
    "    def __init__(self, data_dir, subject_group='both', files=None, normalize=True, decim_freqs=None):\n",
    "        self.normalize = normalize\n",
    "        self.decim_freqs = decim_freqs\n",
    "        \n",
    "        if files is None:\n",
    "            files = glob(os.path.join(data_dir, f'*-{PSD_TYPE}-psd-fsaverage-{AGG}-aparc-data.csv'))\n",
    "            \n",
    "        if subject_group == 'case':\n",
    "            files = [f for f in files if os.path.basename(f)[:3] in cases and 'EO' not in f]\n",
    "        elif subject_group == 'control':\n",
    "            files = [f for f in files if not os.path.basename(f)[:3] in cases and 'EO' not in f]\n",
    "        else:\n",
    "            files = [f for f in files if 'EO' not in f]\n",
    "        self.files = files\n",
    "        #n_files = len(files)\n",
    "        #dataset_arr = []\n",
    "        #for (i, file) in enumerate(files):\n",
    "        #    if i % 10 == 0:\n",
    "        #        print(f'processed {i}/{n_files}')\n",
    "        #    df = pd.read_csv(file, delimiter=',')\n",
    "        #    dataset_arr.append(df)\n",
    "        #dataset = pd.concat(dataset_arr)\n",
    "        #self.dataset = torch.from_numpy(dataset.values)\n",
    "    \n",
    "    def __len__(self): \n",
    "        #return len(self.dataset)\n",
    "        return len(self.files)\n",
    "    \n",
    "    def __getitem__(self, i):\n",
    "        file = self.files[i]\n",
    "        if os.path.basename(file)[:3] in cases:\n",
    "            label = 1\n",
    "        else:\n",
    "            label = 0\n",
    "        df = pd.read_csv(file, sep=',', header=None)\n",
    "        data = df.values[:448,:]\n",
    "        \n",
    "        if data.shape[-1] % 2 != 0:\n",
    "            data = np.insert(data, -1, data[:,-1], axis=1)\n",
    "            \n",
    "        if self.decim_freqs and type(self.decim_freqs) == int:\n",
    "            data = data[:,::self.decim_freqs]\n",
    "            \n",
    "        elif type(self.decim_freqs) == str and self.decim_freqs == 'bands':\n",
    "            binned_data = []\n",
    "            for (lo, hi) in freq_bands:\n",
    "                lo_ind, hi_ind = lo*8, hi*8\n",
    "                binned_data.append(np.max(data[:,lo_ind:hi_ind], axis=1))\n",
    "            data = np.asarray(binned_data).T\n",
    "            \n",
    "        if self.normalize:\n",
    "            x_scaler = StandardScaler()\n",
    "            data = x_scaler.fit_transform(data)\n",
    "            \n",
    "        x = torch.from_numpy(data).float()\n",
    "        return x, label\n",
    "        #return self.dataset[i]\n",
    "\n",
    "dataset = CSVDataset(DATA_DIR, subject_group='control', normalize=True, decim_freqs=DECIM_FREQS)\n",
    "len(dataset)"
   ]
  },
  {
   "cell_type": "code",
   "execution_count": 184,
   "metadata": {},
   "outputs": [],
   "source": [
    "# Creating data indices for training and validation splits:\n",
    "dataset_size = len(dataset)\n",
    "test_size = int(TEST_SPLIT * dataset_size)\n",
    "train_size = dataset_size - test_size\n",
    "trainset, testset = torch.utils.data.random_split(dataset, [train_size, test_size])"
   ]
  },
  {
   "cell_type": "code",
   "execution_count": 185,
   "metadata": {},
   "outputs": [],
   "source": [
    "sampler = RandomSampler(trainset, replacement=True, num_samples=5000)\n",
    "trainloader = DataLoader(trainset, batch_size=BATCH_SIZE, sampler=sampler)\n",
    "testloader = DataLoader(testset, batch_size=BATCH_SIZE, shuffle=False)"
   ]
  },
  {
   "cell_type": "code",
   "execution_count": 186,
   "metadata": {},
   "outputs": [
    {
     "data": {
      "text/plain": [
       "torch.Size([128, 448, 6])"
      ]
     },
     "execution_count": 186,
     "metadata": {},
     "output_type": "execute_result"
    }
   ],
   "source": [
    "# get a single batch\n",
    "test_batch, test_labels = iter(trainloader).next()\n",
    "test_batch.shape"
   ]
  },
  {
   "cell_type": "code",
   "execution_count": 187,
   "metadata": {},
   "outputs": [
    {
     "data": {
      "text/plain": [
       "tensor([[ 0.4515,  0.8731,  0.4052,  0.1026, -0.7708, -1.1285],\n",
       "        [-0.2062,  1.1457,  0.6736, -0.1295,  1.1062, -0.6847],\n",
       "        [ 1.1330,  0.8731,  0.3993, -0.0957, -0.7708, -1.1409],\n",
       "        ...,\n",
       "        [ 0.2148,  1.1234,  0.5681, -0.0189, -0.8513, -0.5281],\n",
       "        [ 0.0186,  0.2186, -0.0602,  0.0027, -0.0243, -0.2944],\n",
       "        [-0.1942,  0.8591,  0.5823,  0.4955, -0.9015, -0.0452]])"
      ]
     },
     "execution_count": 187,
     "metadata": {},
     "output_type": "execute_result"
    }
   ],
   "source": [
    "test_batch[0]"
   ]
  },
  {
   "cell_type": "code",
   "execution_count": 188,
   "metadata": {},
   "outputs": [],
   "source": [
    "n_sources = test_batch.shape[1]\n",
    "n_freqs = test_batch.shape[2]"
   ]
  },
  {
   "cell_type": "markdown",
   "metadata": {},
   "source": [
    "## Defining the model"
   ]
  },
  {
   "cell_type": "code",
   "execution_count": 225,
   "metadata": {},
   "outputs": [],
   "source": [
    "class Encoder(nn.Module):\n",
    "    def __init__(self, n_channels, in_features, out_features):\n",
    "        super(Encoder, self).__init__()\n",
    "        self.n_channels = n_channels\n",
    "        self.in_features = in_features\n",
    "        self.out_features = out_features\n",
    "        \n",
    "        self.mp = nn.MaxPool2d(kernel_size=(2,1), return_indices=True)\n",
    "        \n",
    "        self.conv1 = nn.Sequential(nn.Conv2d(in_channels=1, out_channels=n_channels, kernel_size=(3,1), padding=(1,0)),\n",
    "                                   nn.BatchNorm2d(n_channels),\n",
    "                                   nn.ReLU()\n",
    "                                  )\n",
    "        self.conv2 = nn.Sequential(nn.Conv2d(in_channels=n_channels, out_channels=n_channels, kernel_size=(3,1), padding=(1,0)),\n",
    "                                   nn.BatchNorm2d(n_channels),\n",
    "                                   nn.ReLU()\n",
    "                                  )\n",
    "        #self.fc1 = nn.Linear(in_features, 2*512)\n",
    "        #self.fc2 = nn.Linear(2*512, 2*256)\n",
    "        self.fclast = nn.Linear(in_features, out_features)\n",
    "\n",
    "    def forward(self, x):\n",
    "        indices = []\n",
    "        x = x.unsqueeze(1)\n",
    "        #print(x.shape)\n",
    "        x = self.conv1(x)\n",
    "        #print(x.shape)\n",
    "        x, inds = self.mp(x)\n",
    "        indices.append(inds)\n",
    "        #print(x.shape)\n",
    "        x = self.conv2(x)\n",
    "        #print(x.shape)\n",
    "        x, inds = self.mp(x)\n",
    "        indices.append(inds)\n",
    "        #print(x.shape)\n",
    "        x = x.reshape(x.shape[0], -1)\n",
    "        #print(x.shape)\n",
    "        #x = F.relu(self.fc1(x))\n",
    "        #x = F.relu(self.fc2(x))\n",
    "        x = self.fclast(x)\n",
    "        return x, indices"
   ]
  },
  {
   "cell_type": "code",
   "execution_count": 226,
   "metadata": {},
   "outputs": [
    {
     "name": "stdout",
     "output_type": "stream",
     "text": [
      "Success\n"
     ]
    }
   ],
   "source": [
    "def test_Encoder_shapes():\n",
    "    n_channels = 10\n",
    "    n_sources = 448\n",
    "    n_freqs = 6\n",
    "    in_features = int(n_channels * n_freqs * n_sources / 4)\n",
    "    out_features = 2\n",
    "    encoder = Encoder(n_channels, in_features, out_features)\n",
    "    \n",
    "    x = torch.randn(3, n_sources, n_freqs)\n",
    "    y, mp_indices = encoder(x)\n",
    "    assert y.shape == torch.Size([3, out_features]), f\"Bad y.shape: {y.shape}\"\n",
    "    print('Success')\n",
    "\n",
    "test_Encoder_shapes()"
   ]
  },
  {
   "cell_type": "code",
   "execution_count": 223,
   "metadata": {},
   "outputs": [],
   "source": [
    "class Decoder(nn.Module):\n",
    "    def __init__(self, n_channels, n_sources, in_features, out_features):\n",
    "        super(Decoder, self).__init__()\n",
    "        self.n_channels = n_channels\n",
    "        self.n_sources = n_sources\n",
    "        \n",
    "        #self.fc1 = nn.Linear(n_features, 2*256)\n",
    "        #self.fc2 = nn.Linear(2*256, 2*512)\n",
    "        self.fc = nn.Linear(in_features, out_features)\n",
    "        \n",
    "        self.conv1 = nn.Sequential(nn.ConvTranspose2d(in_channels=n_channels, out_channels=n_channels, kernel_size=(3,1), padding=(1,0)),\n",
    "                                   nn.BatchNorm2d(n_channels),\n",
    "                                   nn.ReLU()\n",
    "                                  )\n",
    "        self.conv2 = nn.Sequential(nn.ConvTranspose2d(in_channels=n_channels, out_channels=1, kernel_size=(3,1), padding=(1,0)))\n",
    "        self.mp = nn.MaxUnpool2d(kernel_size=(2,1))\n",
    "\n",
    "    def forward(self, x, mp_indices):\n",
    "        #x = F.relu(self.fc1(x))\n",
    "        #x = F.relu(self.fc2(x))\n",
    "        x = F.relu(self.fc(x))\n",
    "        #print(x.shape)\n",
    "        x = x.reshape(x.shape[0], self.n_channels, int(self.n_sources/4), -1)\n",
    "        #print(x.shape)\n",
    "        x = self.mp(x, mp_indices[1])\n",
    "        #print(x.shape)\n",
    "        x = self.conv1(x)\n",
    "        #print(x.shape)\n",
    "        x = self.mp(x, mp_indices[0])\n",
    "        x = self.conv2(x)\n",
    "        x = x.squeeze(1)\n",
    "        return x"
   ]
  },
  {
   "cell_type": "code",
   "execution_count": 224,
   "metadata": {},
   "outputs": [
    {
     "name": "stdout",
     "output_type": "stream",
     "text": [
      "Success\n"
     ]
    }
   ],
   "source": [
    "def test_Decoder_shapes():\n",
    "    n_channels = 10\n",
    "    n_sources = 448\n",
    "    n_freqs = 6\n",
    "    in_features = int(n_channels * n_freqs * n_sources / 4)\n",
    "    out_features = 2\n",
    "    encoder = Encoder(n_channels, in_features, out_features)\n",
    "    decoder = Decoder(n_channels, n_sources, out_features, in_features)\n",
    "    \n",
    "    x = torch.randn(3, n_sources, n_freqs)\n",
    "    y, mp_indices = encoder(x)\n",
    "    z = decoder(y, mp_indices)\n",
    "    assert z.shape == torch.Size([3, n_sources, n_freqs]), \"Bad shape of z: z.shape={}\".format(z.shape)\n",
    "    print('Success')\n",
    "\n",
    "test_Decoder_shapes()"
   ]
  },
  {
   "cell_type": "markdown",
   "metadata": {},
   "source": [
    "## Training"
   ]
  },
  {
   "cell_type": "code",
   "execution_count": 236,
   "metadata": {},
   "outputs": [],
   "source": [
    "def fit(encoder, decoder, dataloader, optimizer, criterion, epoch):\n",
    "    print('Training')\n",
    "    encoder.train()\n",
    "    decoder.train()\n",
    "    running_loss = 0.0\n",
    "\n",
    "    for i, (images, labels) in tqdm(enumerate(dataloader), total=int(len(dataloader))):\n",
    "        optimizer.zero_grad()\n",
    "        \n",
    "        img_noisy = images + 0.2 * torch.randn_like(images)\n",
    "        z, mp_ind = encoder(img_noisy)\n",
    "        x_hat = decoder(z, mp_ind)\n",
    "        \n",
    "        loss = criterion(images, x_hat)\n",
    "\n",
    "        loss.backward()\n",
    "        optimizer.step()\n",
    "        \n",
    "        running_loss += loss.item()\n",
    "    \n",
    "    epoch_loss = running_loss / len(dataloader)\n",
    "    print(f\"Train Loss: {epoch_loss:.3f}\")\n",
    "\n",
    "    return epoch_loss"
   ]
  },
  {
   "cell_type": "code",
   "execution_count": 237,
   "metadata": {},
   "outputs": [],
   "source": [
    "def validate(encoder, decoder, dataloader, criterion, epoch):\n",
    "    print('Validating')\n",
    "    encoder.eval()\n",
    "    decoder.eval()\n",
    "    running_loss = 0.0\n",
    "    \n",
    "    with torch.no_grad():\n",
    "        for i, (images, labels) in tqdm(enumerate(dataloader), total=int(len(dataloader))):\n",
    "            z, mp_ind = encoder(images)\n",
    "            x_hat = decoder(z, mp_ind)\n",
    "\n",
    "            loss = criterion(images, x_hat)\n",
    "            running_loss += loss.item()\n",
    "            \n",
    "    epoch_loss = running_loss / len(dataloader)\n",
    "    print(f\"Val Loss: {epoch_loss:.3f}\")  \n",
    "\n",
    "    return epoch_loss"
   ]
  },
  {
   "cell_type": "code",
   "execution_count": 238,
   "metadata": {},
   "outputs": [],
   "source": [
    "# Training loop\n",
    "def train(encoder, decoder, trainloader, testloader, optimizer, criterion):\n",
    "    \n",
    "    train_loss = []\n",
    "    val_loss = []\n",
    "    \n",
    "    start = time.time()\n",
    "    for epoch in range(N_EPOCHS):\n",
    "        print(f\"Epoch {epoch+1} of {N_EPOCHS}\")\n",
    "        \n",
    "        train_epoch_loss = fit(encoder, decoder, trainloader, optimizer, criterion, epoch)\n",
    "        val_epoch_loss = validate(encoder, decoder, testloader, criterion, epoch)\n",
    "        \n",
    "        train_loss.append(train_epoch_loss)\n",
    "        val_loss.append(val_epoch_loss)\n",
    "        \n",
    "    end = time.time()\n",
    "\n",
    "    print(f\"{(end-start)/60:.3} minutes\")\n",
    "    \n",
    "    return encoder, decoder, train_loss, val_loss"
   ]
  },
  {
   "cell_type": "code",
   "execution_count": null,
   "metadata": {},
   "outputs": [
    {
     "name": "stderr",
     "output_type": "stream",
     "text": [
      "  0%|          | 0/40 [00:00<?, ?it/s]"
     ]
    },
    {
     "name": "stdout",
     "output_type": "stream",
     "text": [
      "Encoder(\n",
      "  (mp): MaxPool2d(kernel_size=(2, 1), stride=(2, 1), padding=0, dilation=1, ceil_mode=False)\n",
      "  (conv1): Sequential(\n",
      "    (0): Conv2d(1, 32, kernel_size=(3, 1), stride=(1, 1), padding=(1, 0))\n",
      "    (1): BatchNorm2d(32, eps=1e-05, momentum=0.1, affine=True, track_running_stats=True)\n",
      "    (2): ReLU()\n",
      "  )\n",
      "  (conv2): Sequential(\n",
      "    (0): Conv2d(32, 32, kernel_size=(3, 1), stride=(1, 1), padding=(1, 0))\n",
      "    (1): BatchNorm2d(32, eps=1e-05, momentum=0.1, affine=True, track_running_stats=True)\n",
      "    (2): ReLU()\n",
      "  )\n",
      "  (fclast): Linear(in_features=21504, out_features=100, bias=True)\n",
      ")\n",
      "Decoder(\n",
      "  (fc): Linear(in_features=100, out_features=21504, bias=True)\n",
      "  (conv1): Sequential(\n",
      "    (0): ConvTranspose2d(32, 32, kernel_size=(3, 1), stride=(1, 1), padding=(1, 0))\n",
      "    (1): BatchNorm2d(32, eps=1e-05, momentum=0.1, affine=True, track_running_stats=True)\n",
      "    (2): ReLU()\n",
      "  )\n",
      "  (conv2): Sequential(\n",
      "    (0): ConvTranspose2d(32, 1, kernel_size=(3, 1), stride=(1, 1), padding=(1, 0))\n",
      "  )\n",
      "  (mp): MaxUnpool2d(kernel_size=(2, 1), stride=(2, 1), padding=(0, 0))\n",
      ")\n",
      "Epoch 1 of 8\n",
      "Training\n"
     ]
    },
    {
     "name": "stderr",
     "output_type": "stream",
     "text": [
      "100%|██████████| 40/40 [03:23<00:00,  5.08s/it]\n",
      "  0%|          | 0/1 [00:00<?, ?it/s]"
     ]
    },
    {
     "name": "stdout",
     "output_type": "stream",
     "text": [
      "Train Loss: 1.340\n",
      "Validating\n"
     ]
    }
   ],
   "source": [
    "# Create a deep autoencoder\n",
    "n_channels = 32\n",
    "in_features = int(n_channels * n_freqs * n_sources / 4)\n",
    "out_features = 100\n",
    "\n",
    "encoder = Encoder(n_channels, in_features, out_features)\n",
    "encoder.to(device)\n",
    "\n",
    "decoder = Decoder(n_channels, n_sources, out_features, in_features)\n",
    "decoder.to(device)\n",
    "\n",
    "print(encoder)\n",
    "print(decoder)\n",
    "\n",
    "if not SKIP_TRAINING:\n",
    "    parameters = list(encoder.parameters()) + list(decoder.parameters())\n",
    "    optimizer = optim.Adam(parameters, lr=LEARNING_RATE, weight_decay=WEIGHT_DECAY)\n",
    "    criterion = nn.MSELoss()\n",
    "    encoder, decoder, train_loss, val_loss = train(encoder, decoder, trainloader, testloader, optimizer, criterion)"
   ]
  },
  {
   "cell_type": "code",
   "execution_count": 19,
   "metadata": {},
   "outputs": [
    {
     "name": "stdin",
     "output_type": "stream",
     "text": [
      "Type the file name to save the model to  encoder.pth\n"
     ]
    },
    {
     "name": "stdout",
     "output_type": "stream",
     "text": [
      "Model saved to encoder.pth.\n"
     ]
    },
    {
     "name": "stdin",
     "output_type": "stream",
     "text": [
      "Type the file name to save the model to  decoder.pth\n"
     ]
    },
    {
     "name": "stdout",
     "output_type": "stream",
     "text": [
      "Model saved to decoder.pth.\n"
     ]
    }
   ],
   "source": [
    "if not SKIP_TRAINING:\n",
    "    tools.save_model(encoder)\n",
    "    tools.save_model(decoder)\n",
    "else:\n",
    "    encoder = Encoder(n_components=10)\n",
    "    tools.load_model(encoder, device)\n",
    "\n",
    "    decoder = Decoder(n_components=10)\n",
    "    tools.load_model(decoder, device)"
   ]
  },
  {
   "cell_type": "code",
   "execution_count": 248,
   "metadata": {},
   "outputs": [
    {
     "data": {
      "image/png": "[encoded data removed]",
      "text/plain": [
       "<Figure size 720x504 with 1 Axes>"
      ]
     },
     "metadata": {
      "needs_background": "light"
     },
     "output_type": "display_data"
    }
   ],
   "source": [
    "# loss plots\n",
    "plt.figure(figsize=(10, 7))\n",
    "plt.plot(train_loss[1:], color='orange', label='training loss')\n",
    "plt.plot(val_loss, color='red', label='validation loss')\n",
    "plt.xlabel('Epochs')\n",
    "plt.ylabel('Loss')\n",
    "plt.legend()\n",
    "plt.show()"
   ]
  },
  {
   "cell_type": "code",
   "execution_count": 151,
   "metadata": {},
   "outputs": [],
   "source": [
    "def get_loss_dist(dataset, encoder, decoder, criterion):\n",
    "    encoder.eval()\n",
    "    decoder.eval()\n",
    "    losses = []\n",
    "    labels = []\n",
    "    dataloader = DataLoader(dataset, batch_size=BATCH_SIZE, shuffle=False)\n",
    "    with torch.no_grad():\n",
    "        for i, (images, labs) in enumerate(dataloader):\n",
    "            z, mp_inds = encoder(images)\n",
    "            x_hat = decoder(z, mp_inds)\n",
    "            for j in range(len(images)):\n",
    "                img = images[j].unsqueeze(0)\n",
    "                target = x_hat[j].unsqueeze(0)\n",
    "                loss = criterion(img, target)\n",
    "                losses.append(torch.mean(torch.max(loss, 1)[0]).item())\n",
    "                labels.append(labs[j].item())\n",
    "    return losses, labels"
   ]
  },
  {
   "cell_type": "code",
   "execution_count": 249,
   "metadata": {},
   "outputs": [],
   "source": [
    "criterion = nn.MSELoss(reduction='none')\n",
    "cases_set = CSVDataset(DATA_DIR, subject_group='case', decim_freqs=DECIM_FREQS)\n",
    "loss_dist_test, labels_test = get_loss_dist(testset, encoder, decoder, criterion)\n",
    "loss_dist_cases, labels_cases = get_loss_dist(cases_set, encoder, decoder, criterion)\n",
    "loss_dist = loss_dist_test + loss_dist_cases\n",
    "labels = labels_test + labels_cases"
   ]
  },
  {
   "cell_type": "code",
   "execution_count": 250,
   "metadata": {},
   "outputs": [
    {
     "data": {
      "image/png": "[encoded data removed]",
      "text/plain": [
       "<Figure size 720x360 with 1 Axes>"
      ]
     },
     "metadata": {
      "needs_background": "light"
     },
     "output_type": "display_data"
    }
   ],
   "source": [
    "threshold = 6\n",
    "sns.displot(loss_dist, bins=100, kde=True, color='blue', height=5, aspect=2)\n",
    "plt.axvline(threshold, 0.0, 10, color='r')\n",
    "plt.title('Loss distribution')\n",
    "plt.show()"
   ]
  },
  {
   "cell_type": "code",
   "execution_count": 205,
   "metadata": {},
   "outputs": [],
   "source": [
    "def print_results(loss_dist, labels, threshold):\n",
    "    tp = 0\n",
    "    fp = 0\n",
    "    tn = 0\n",
    "    fn = 0\n",
    "    total_anom = 0\n",
    "    \n",
    "    for i in range(len(loss_dist)):\n",
    "        label = labels[i]\n",
    "        total_anom += label\n",
    "\n",
    "        if loss_dist[i] >= threshold:\n",
    "            if label == 1:\n",
    "                tp += 1\n",
    "            else:\n",
    "                fp += 1\n",
    "        else:\n",
    "            if label == 1:\n",
    "                fn += 1\n",
    "            else:\n",
    "                tn += 1\n",
    "    print('[TP] {}\\t\\t[FP] {}\\t\\t[MISSED] {}'.format(tp, fp, total_anom-tp))\n",
    "    print('[TN] {}\\t\\t[FN] {}'.format(tn, fn))"
   ]
  },
  {
   "cell_type": "code",
   "execution_count": 254,
   "metadata": {},
   "outputs": [
    {
     "name": "stdout",
     "output_type": "stream",
     "text": [
      "[TP] 3\t\t[FP] 8\t\t[MISSED] 22\n",
      "[TN] 120\t\t[FN] 22\n"
     ]
    }
   ],
   "source": [
    "print_results(loss_dist, labels, 5)"
   ]
  },
  {
   "cell_type": "code",
   "execution_count": null,
   "metadata": {},
   "outputs": [],
   "source": []
  }
 ],
 "metadata": {
  "kernelspec": {
   "display_name": "tbi",
   "language": "python",
   "name": "tbi"
  },
  "language_info": {
   "codemirror_mode": {
    "name": "ipython",
    "version": 3
   },
   "file_extension": ".py",
   "mimetype": "text/x-python",
   "name": "python",
   "nbconvert_exporter": "python",
   "pygments_lexer": "ipython3",
   "version": "3.8.5"
  }
 },
 "nbformat": 4,
 "nbformat_minor": 4
}
