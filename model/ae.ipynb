{
 "cells": [
  {
   "cell_type": "code",
   "execution_count": 5,
   "metadata": {},
   "outputs": [],
   "source": [
    "import os\n",
    "import numpy as np\n",
    "import matplotlib.pyplot as plt\n",
    "%matplotlib inline\n",
    "\n",
    "import torch\n",
    "import torchvision\n",
    "import torchvision.transforms as transforms\n",
    "import torch.nn as nn\n",
    "import torch.nn.functional as F\n",
    "import torch.optim as optim\n",
    "from torch.utils.data import DataLoader\n",
    "from torch.utils.data.sampler import SubsetRandomSampler"
   ]
  },
  {
   "cell_type": "code",
   "execution_count": 15,
   "metadata": {},
   "outputs": [],
   "source": [
    "DATA_DIR = '/home/veeraitalinna/thesis/data'\n",
    "TRAIN_DATA_FPATH = os.path.join(DATA_DIR, 'normative_data.csv')\n",
    "BATCH_SIZE = 32\n",
    "TEST_SPLIT = 0.2\n",
    "RANDOM_SEED = 42\n",
    "N_EPOCHS = 4\n",
    "SKIP_TRAINING = False\n",
    "LEARNING_RATE = 0.001"
   ]
  },
  {
   "cell_type": "code",
   "execution_count": 10,
   "metadata": {},
   "outputs": [],
   "source": [
    "# get the computation device\n",
    "def get_device():\n",
    "    if torch.cuda.is_available():\n",
    "        device = 'cuda:0'\n",
    "    else:\n",
    "        device = 'cpu'\n",
    "    return device\n",
    "device = get_device()"
   ]
  },
  {
   "cell_type": "markdown",
   "metadata": {},
   "source": [
    "## Loading data"
   ]
  },
  {
   "cell_type": "code",
   "execution_count": 16,
   "metadata": {},
   "outputs": [
    {
     "name": "stderr",
     "output_type": "stream",
     "text": [
      "/home/veeraitalinna/anaconda3/envs/mne/lib/python3.7/site-packages/ipykernel_launcher.py:1: UserWarning: genfromtxt: Empty input file: \"/home/veeraitalinna/thesis/data/normative_data.csv\"\n",
      "  \"\"\"Entry point for launching an IPython kernel.\n"
     ]
    },
    {
     "data": {
      "text/plain": [
       "torch.Size([0])"
      ]
     },
     "execution_count": 16,
     "metadata": {},
     "output_type": "execute_result"
    }
   ],
   "source": [
    "dataset = torch.Tensor(np.genfromtxt(TRAIN_DATA_FPATH, delimiter=','))\n",
    "dataset.shape"
   ]
  },
  {
   "cell_type": "code",
   "execution_count": null,
   "metadata": {},
   "outputs": [],
   "source": [
    "# Creating data indices for training and validation splits:\n",
    "dataset_size = len(dataset)\n",
    "test_size = int(TEST_SPLIT * dataset_size)\n",
    "train_size = dataset_size - test_size\n",
    "trainset, testset = torch.utils.data.random_split(dataset, [train_size, test_size])"
   ]
  },
  {
   "cell_type": "code",
   "execution_count": null,
   "metadata": {},
   "outputs": [],
   "source": [
    "trainloader = DataLoader(trainset, batch_size=BATCH_SIZE, shuffle=True)\n",
    "testloader = DataLoader(testset, batch_size=BATCH_SIZE, shuffle=False)"
   ]
  },
  {
   "cell_type": "markdown",
   "metadata": {},
   "source": [
    "## Defining the model"
   ]
  },
  {
   "cell_type": "code",
   "execution_count": 17,
   "metadata": {},
   "outputs": [],
   "source": [
    "class Encoder(nn.Module):\n",
    "    def __init__(self, n_components):\n",
    "        super(Encoder, self).__init__()\n",
    "        self.fc1 = nn.Linear(784, 1000)\n",
    "        self.fc2 = nn.Linear(1000, 500)\n",
    "        self.fc3 = nn.Linear(500, 250)\n",
    "        self.fc4 = nn.Linear(250, n_components)\n",
    "\n",
    "    def forward(self, x):\n",
    "        x = x.reshape(-1, 784)\n",
    "        x = F.relu(self.fc1(x))\n",
    "        x = F.relu(self.fc2(x))\n",
    "        x = F.relu(self.fc3(x))\n",
    "        x = self.fc4(x)\n",
    "        return x"
   ]
  },
  {
   "cell_type": "code",
   "execution_count": 18,
   "metadata": {},
   "outputs": [
    {
     "name": "stdout",
     "output_type": "stream",
     "text": [
      "Success\n"
     ]
    }
   ],
   "source": [
    "def test_Encoder_shapes():\n",
    "    n_components = 2\n",
    "    encoder = Encoder(n_components)\n",
    "    \n",
    "    x = torch.randn(3, 1, 28, 28)\n",
    "    y = encoder(x)\n",
    "    assert y.shape == torch.Size([3, n_components]), f\"Bad y.shape: {y.shape}\"\n",
    "    print('Success')\n",
    "\n",
    "test_Encoder_shapes()"
   ]
  },
  {
   "cell_type": "code",
   "execution_count": 19,
   "metadata": {},
   "outputs": [],
   "source": [
    "class Decoder(nn.Module):\n",
    "    def __init__(self, n_components):\n",
    "        # YOUR CODE HERE\n",
    "        super(Decoder, self).__init__()\n",
    "        self.fc1 = nn.Linear(n_components, 250)\n",
    "        self.fc2 = nn.Linear(250, 500)\n",
    "        self.fc3 = nn.Linear(500, 1000)\n",
    "        self.fc4 = nn.Linear(1000, 784)\n",
    "\n",
    "    def forward(self, x):\n",
    "        # YOUR CODE HERE\n",
    "        x = F.relu(self.fc1(x))\n",
    "        x = F.relu(self.fc2(x))\n",
    "        x = F.relu(self.fc3(x))\n",
    "        x = self.fc4(x)\n",
    "        x = x.reshape(-1, 1, 28, 28)\n",
    "        return x"
   ]
  },
  {
   "cell_type": "code",
   "execution_count": 20,
   "metadata": {},
   "outputs": [
    {
     "name": "stdout",
     "output_type": "stream",
     "text": [
      "Success\n"
     ]
    }
   ],
   "source": [
    "def test_Decoder_shapes():\n",
    "    n_components = 2\n",
    "    decoder = Decoder(n_components)\n",
    "    \n",
    "    x = torch.randn(3, n_components)\n",
    "    y = decoder(x)\n",
    "    assert y.shape == torch.Size([3, 1, 28, 28]), \"Bad shape of y: y.shape={}\".format(y.shape)\n",
    "    print('Success')\n",
    "\n",
    "test_Decoder_shapes()"
   ]
  },
  {
   "cell_type": "markdown",
   "metadata": {},
   "source": [
    "## Training"
   ]
  },
  {
   "cell_type": "code",
   "execution_count": null,
   "metadata": {},
   "outputs": [],
   "source": [
    "# Create a deep autoencoder\n",
    "n_components = 10\n",
    "encoder = Encoder(n_components)\n",
    "encoder.to(device)\n",
    "\n",
    "decoder = Decoder(n_components)\n",
    "decoder.to(device)"
   ]
  },
  {
   "cell_type": "code",
   "execution_count": null,
   "metadata": {},
   "outputs": [],
   "source": [
    "def fit(encoder, decoder, dataloader, epoch):\n",
    "    print('Training')\n",
    "    model.train()\n",
    "    running_loss = 0.0\n",
    "\n",
    "    for i, (images, _) in tqdm(enumerate(dataloader), total=int(len(trainset)/dataloader.batch_size)):\n",
    "        optimizer.zero_grad()\n",
    "        \n",
    "        z = encoder(images)\n",
    "        x_hat = decoder(z)\n",
    "        \n",
    "        loss = criterion(images, x_hat)\n",
    "\n",
    "        loss.backward()\n",
    "        optimizer.step()\n",
    "        \n",
    "        running_loss += loss.item()\n",
    "    \n",
    "    epoch_loss = running_loss / len(dataloader)\n",
    "    print(f\"Train Loss: {epoch_loss:.3f}\")\n",
    "\n",
    "    return epoch_loss"
   ]
  },
  {
   "cell_type": "code",
   "execution_count": null,
   "metadata": {},
   "outputs": [],
   "source": [
    "def validate(encoder, decoder, dataloader, epoch):\n",
    "    print('Validating')\n",
    "    model.eval()\n",
    "    running_loss = 0.0\n",
    "    \n",
    "    with torch.no_grad():\n",
    "        for i, (images, _) in tqdm(enumerate(dataloader), total=int(len(testset)/dataloader.batch_size)):\n",
    "            z = encoder(images)\n",
    "            x_hat = decoder(z)\n",
    "\n",
    "            loss = criterion(images, x_hat)\n",
    "            \n",
    "    epoch_loss = running_loss / len(dataloader)\n",
    "    print(f\"Val Loss: {epoch_loss:.3f}\")  \n",
    "\n",
    "    return epoch_loss"
   ]
  },
  {
   "cell_type": "code",
   "execution_count": null,
   "metadata": {},
   "outputs": [],
   "source": [
    "# Training loop\n",
    "if not SKIP_TRAINING:\n",
    "    parameters = list(encoder.parameters()) + list(decoder.parameters())\n",
    "    optimizer = optim.Adam(parameters, lr=LEARNING_RATE)\n",
    "    criterion = nn.MSELoss()\n",
    "    \n",
    "    train_loss = []\n",
    "    val_loss = []\n",
    "    \n",
    "    start = time.time()\n",
    "    for epoch in range(N_EPOCHS):\n",
    "        print(f\"Epoch {epoch+1} of {EPOCHS}\")\n",
    "        \n",
    "        train_epoch_loss = fit(encoder, decoder, trainloader, epoch)\n",
    "        val_epoch_loss = validate(encoder, decoder, testloader, epoch)\n",
    "        \n",
    "        train_loss.append(train_epoch_loss)\n",
    "        val_loss.append(val_epoch_loss)\n",
    "        \n",
    "    end = time.time()\n",
    "\n",
    "    print(f\"{(end-start)/60:.3} minutes\")"
   ]
  },
  {
   "cell_type": "code",
   "execution_count": null,
   "metadata": {},
   "outputs": [],
   "source": [
    "if not SKIP_TRAINING:\n",
    "    tools.save_model(encoder, 'encoder.pth')\n",
    "    tools.save_model(decoder, 'decoder.pth')\n",
    "else:\n",
    "    encoder = Encoder(n_components=10)\n",
    "    tools.load_model(encoder, 'encoder.pth', device)\n",
    "\n",
    "    decoder = Decoder(n_components=10)\n",
    "    tools.load_model(decoder, 'decoder.pth', device)"
   ]
  },
  {
   "cell_type": "code",
   "execution_count": null,
   "metadata": {},
   "outputs": [],
   "source": [
    "# loss plots\n",
    "plt.figure(figsize=(10, 7))\n",
    "plt.plot(train_loss, color='orange', label='training loss')\n",
    "plt.plot(val_loss, color='red', label='validataion loss')\n",
    "plt.xlabel('Epochs')\n",
    "plt.ylabel('Loss')\n",
    "plt.legend()\n",
    "plt.show()"
   ]
  }
 ],
 "metadata": {
  "kernelspec": {
   "display_name": "mne",
   "language": "python",
   "name": "mne"
  },
  "language_info": {
   "codemirror_mode": {
    "name": "ipython",
    "version": 3
   },
   "file_extension": ".py",
   "mimetype": "text/x-python",
   "name": "python",
   "nbconvert_exporter": "python",
   "pygments_lexer": "ipython3",
   "version": "3.7.9"
  }
 },
 "nbformat": 4,
 "nbformat_minor": 2
}
